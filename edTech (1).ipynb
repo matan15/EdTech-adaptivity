{
  "cells": [
    {
      "cell_type": "markdown",
      "id": "9a8e202c",
      "metadata": {
        "id": "9a8e202c"
      },
      "source": [
        "# Installation requirements"
      ]
    },
    {
      "cell_type": "code",
      "execution_count": 17,
      "id": "f7568dd5",
      "metadata": {
        "id": "f7568dd5"
      },
      "outputs": [],
      "source": [
        "#! pip install pandas\n",
        "#! pip install numpy\n",
        "#! pip install scikit-learn\n",
        "#! pip install matplotlib\n",
        "#! pip install seaborn\n",
        "#! pip install graphviz"
      ]
    },
    {
      "cell_type": "markdown",
      "id": "48835d82",
      "metadata": {
        "id": "48835d82"
      },
      "source": [
        "# importing Libraries"
      ]
    },
    {
      "cell_type": "code",
      "execution_count": 2,
      "id": "c569f73d",
      "metadata": {
        "id": "c569f73d"
      },
      "outputs": [],
      "source": [
        "import pandas as pd\n",
        "import matplotlib.pyplot as plt\n",
        "import seaborn as sns\n",
        "from sklearn.model_selection import train_test_split\n",
        "from sklearn.ensemble import RandomForestClassifier\n",
        "from sklearn.metrics import accuracy_score, confusion_matrix, ConfusionMatrixDisplay\n",
        "from sklearn import tree\n",
        "from sklearn.tree import export_graphviz\n",
        "import graphviz\n",
        "import numpy as np\n",
        "from pprint import pprint"
      ]
    },
    {
      "cell_type": "markdown",
      "id": "b76ff2f2",
      "metadata": {
        "id": "b76ff2f2"
      },
      "source": [
        "# Reading data and reformatting for working"
      ]
    },
    {
      "cell_type": "code",
      "execution_count": 3,
      "id": "cfaddebc",
      "metadata": {
        "colab": {
          "base_uri": "https://localhost:8080/",
          "height": 206
        },
        "id": "cfaddebc",
        "outputId": "4608c65c-62fc-41be-800d-8ec4a132f7bc"
      },
      "outputs": [
        {
          "output_type": "execute_result",
          "data": {
            "text/plain": [
              "  Gender    Age Education Level Financial Condition  Device  Adaptivity Level\n",
              "0    Boy  21-25      University                 Mid     Tab         66.666667\n",
              "1   Girl  21-25      University                 Mid  Mobile         66.666667\n",
              "2   Girl  16-20         College                 Mid  Mobile         66.666667\n",
              "3   Girl  11-15          School                 Mid  Mobile         66.666667\n",
              "4   Girl  16-20          School                Poor  Mobile         33.333333"
            ],
            "text/html": [
              "\n",
              "  <div id=\"df-f4bca0cb-8fb6-41b5-9195-f4387d9897bf\">\n",
              "    <div class=\"colab-df-container\">\n",
              "      <div>\n",
              "<style scoped>\n",
              "    .dataframe tbody tr th:only-of-type {\n",
              "        vertical-align: middle;\n",
              "    }\n",
              "\n",
              "    .dataframe tbody tr th {\n",
              "        vertical-align: top;\n",
              "    }\n",
              "\n",
              "    .dataframe thead th {\n",
              "        text-align: right;\n",
              "    }\n",
              "</style>\n",
              "<table border=\"1\" class=\"dataframe\">\n",
              "  <thead>\n",
              "    <tr style=\"text-align: right;\">\n",
              "      <th></th>\n",
              "      <th>Gender</th>\n",
              "      <th>Age</th>\n",
              "      <th>Education Level</th>\n",
              "      <th>Financial Condition</th>\n",
              "      <th>Device</th>\n",
              "      <th>Adaptivity Level</th>\n",
              "    </tr>\n",
              "  </thead>\n",
              "  <tbody>\n",
              "    <tr>\n",
              "      <th>0</th>\n",
              "      <td>Boy</td>\n",
              "      <td>21-25</td>\n",
              "      <td>University</td>\n",
              "      <td>Mid</td>\n",
              "      <td>Tab</td>\n",
              "      <td>66.666667</td>\n",
              "    </tr>\n",
              "    <tr>\n",
              "      <th>1</th>\n",
              "      <td>Girl</td>\n",
              "      <td>21-25</td>\n",
              "      <td>University</td>\n",
              "      <td>Mid</td>\n",
              "      <td>Mobile</td>\n",
              "      <td>66.666667</td>\n",
              "    </tr>\n",
              "    <tr>\n",
              "      <th>2</th>\n",
              "      <td>Girl</td>\n",
              "      <td>16-20</td>\n",
              "      <td>College</td>\n",
              "      <td>Mid</td>\n",
              "      <td>Mobile</td>\n",
              "      <td>66.666667</td>\n",
              "    </tr>\n",
              "    <tr>\n",
              "      <th>3</th>\n",
              "      <td>Girl</td>\n",
              "      <td>11-15</td>\n",
              "      <td>School</td>\n",
              "      <td>Mid</td>\n",
              "      <td>Mobile</td>\n",
              "      <td>66.666667</td>\n",
              "    </tr>\n",
              "    <tr>\n",
              "      <th>4</th>\n",
              "      <td>Girl</td>\n",
              "      <td>16-20</td>\n",
              "      <td>School</td>\n",
              "      <td>Poor</td>\n",
              "      <td>Mobile</td>\n",
              "      <td>33.333333</td>\n",
              "    </tr>\n",
              "  </tbody>\n",
              "</table>\n",
              "</div>\n",
              "      <button class=\"colab-df-convert\" onclick=\"convertToInteractive('df-f4bca0cb-8fb6-41b5-9195-f4387d9897bf')\"\n",
              "              title=\"Convert this dataframe to an interactive table.\"\n",
              "              style=\"display:none;\">\n",
              "        \n",
              "  <svg xmlns=\"http://www.w3.org/2000/svg\" height=\"24px\"viewBox=\"0 0 24 24\"\n",
              "       width=\"24px\">\n",
              "    <path d=\"M0 0h24v24H0V0z\" fill=\"none\"/>\n",
              "    <path d=\"M18.56 5.44l.94 2.06.94-2.06 2.06-.94-2.06-.94-.94-2.06-.94 2.06-2.06.94zm-11 1L8.5 8.5l.94-2.06 2.06-.94-2.06-.94L8.5 2.5l-.94 2.06-2.06.94zm10 10l.94 2.06.94-2.06 2.06-.94-2.06-.94-.94-2.06-.94 2.06-2.06.94z\"/><path d=\"M17.41 7.96l-1.37-1.37c-.4-.4-.92-.59-1.43-.59-.52 0-1.04.2-1.43.59L10.3 9.45l-7.72 7.72c-.78.78-.78 2.05 0 2.83L4 21.41c.39.39.9.59 1.41.59.51 0 1.02-.2 1.41-.59l7.78-7.78 2.81-2.81c.8-.78.8-2.07 0-2.86zM5.41 20L4 18.59l7.72-7.72 1.47 1.35L5.41 20z\"/>\n",
              "  </svg>\n",
              "      </button>\n",
              "      \n",
              "  <style>\n",
              "    .colab-df-container {\n",
              "      display:flex;\n",
              "      flex-wrap:wrap;\n",
              "      gap: 12px;\n",
              "    }\n",
              "\n",
              "    .colab-df-convert {\n",
              "      background-color: #E8F0FE;\n",
              "      border: none;\n",
              "      border-radius: 50%;\n",
              "      cursor: pointer;\n",
              "      display: none;\n",
              "      fill: #1967D2;\n",
              "      height: 32px;\n",
              "      padding: 0 0 0 0;\n",
              "      width: 32px;\n",
              "    }\n",
              "\n",
              "    .colab-df-convert:hover {\n",
              "      background-color: #E2EBFA;\n",
              "      box-shadow: 0px 1px 2px rgba(60, 64, 67, 0.3), 0px 1px 3px 1px rgba(60, 64, 67, 0.15);\n",
              "      fill: #174EA6;\n",
              "    }\n",
              "\n",
              "    [theme=dark] .colab-df-convert {\n",
              "      background-color: #3B4455;\n",
              "      fill: #D2E3FC;\n",
              "    }\n",
              "\n",
              "    [theme=dark] .colab-df-convert:hover {\n",
              "      background-color: #434B5C;\n",
              "      box-shadow: 0px 1px 3px 1px rgba(0, 0, 0, 0.15);\n",
              "      filter: drop-shadow(0px 1px 2px rgba(0, 0, 0, 0.3));\n",
              "      fill: #FFFFFF;\n",
              "    }\n",
              "  </style>\n",
              "\n",
              "      <script>\n",
              "        const buttonEl =\n",
              "          document.querySelector('#df-f4bca0cb-8fb6-41b5-9195-f4387d9897bf button.colab-df-convert');\n",
              "        buttonEl.style.display =\n",
              "          google.colab.kernel.accessAllowed ? 'block' : 'none';\n",
              "\n",
              "        async function convertToInteractive(key) {\n",
              "          const element = document.querySelector('#df-f4bca0cb-8fb6-41b5-9195-f4387d9897bf');\n",
              "          const dataTable =\n",
              "            await google.colab.kernel.invokeFunction('convertToInteractive',\n",
              "                                                     [key], {});\n",
              "          if (!dataTable) return;\n",
              "\n",
              "          const docLinkHtml = 'Like what you see? Visit the ' +\n",
              "            '<a target=\"_blank\" href=https://colab.research.google.com/notebooks/data_table.ipynb>data table notebook</a>'\n",
              "            + ' to learn more about interactive tables.';\n",
              "          element.innerHTML = '';\n",
              "          dataTable['output_type'] = 'display_data';\n",
              "          await google.colab.output.renderOutput(dataTable, element);\n",
              "          const docLink = document.createElement('div');\n",
              "          docLink.innerHTML = docLinkHtml;\n",
              "          element.appendChild(docLink);\n",
              "        }\n",
              "      </script>\n",
              "    </div>\n",
              "  </div>\n",
              "  "
            ]
          },
          "metadata": {},
          "execution_count": 3
        }
      ],
      "source": [
        "# Reading the data and making a copy in order to not hurt the data.\n",
        "df = pd.read_csv(\"students_adaptability_level_online_education.csv\", usecols=['Gender', 'Age', 'Education Level', 'Financial Condition', 'Device', 'Adaptivity Level'])\n",
        "df_adapt_textual = df.copy()\n",
        "\n",
        "# in order to work with the data more easily, we will convert the Y (Adaptivity Level column) to a number.\n",
        "df[\"Adaptivity Level\"] = df[\"Adaptivity Level\"].replace({\"Low\": (100 / 3), \"Moderate\": (100 / 3) * 2, \"High\": 100})\n",
        "df.head()"
      ]
    },
    {
      "cell_type": "markdown",
      "id": "85e5edc1",
      "metadata": {
        "id": "85e5edc1"
      },
      "source": [
        "# Calculating means of the parameters for basic statistics"
      ]
    },
    {
      "cell_type": "code",
      "execution_count": 4,
      "id": "48bde77e",
      "metadata": {
        "colab": {
          "base_uri": "https://localhost:8080/",
          "height": 472
        },
        "id": "48bde77e",
        "outputId": "c61482ca-ddc7-485d-e21b-bca9d565fca5"
      },
      "outputs": [
        {
          "output_type": "execute_result",
          "data": {
            "text/plain": [
              "<Axes: xlabel='Gender', ylabel='Adaptivity Level'>"
            ]
          },
          "metadata": {},
          "execution_count": 4
        },
        {
          "output_type": "display_data",
          "data": {
            "text/plain": [
              "<Figure size 640x480 with 1 Axes>"
            ],
            "image/png": "[encoded data removed]"
          },
          "metadata": {}
        }
      ],
      "source": [
        "# Getting the rows where the gender is \"Boy\" and \"Girl\" seperately.\n",
        "boy_and_adapt = df[df[\"Gender\"] == \"Boy\"]\n",
        "girl_and_adapt = df[df[\"Gender\"] == \"Girl\"]\n",
        "\n",
        "# Joining the seperate DataFrames into one DataFrame with the mean of the Adaptivity Level for Boys and Girls.\n",
        "gender_and_adapt_df = pd.DataFrame.from_dict({\"Gender\": [\"Boy\", \"Girl\"],\n",
        "                                              \"Adaptivity Level\": [boy_and_adapt[\"Adaptivity Level\"].mean(),\n",
        "                                                                   girl_and_adapt[\"Adaptivity Level\"].mean()\n",
        "                                                                  ]\n",
        "                                             })\n",
        "\n",
        "# Styling the plot and show\n",
        "colors = [\"#8EA7E9\", \"#FD8A8A\"]\n",
        "gender_and_adapt = sns.barplot(data=gender_and_adapt_df, x=\"Gender\", y=\"Adaptivity Level\",palette=colors)\n",
        "gender_and_adapt.set_ylim(0, 100)\n",
        "gender_and_adapt"
      ]
    },
    {
      "cell_type": "code",
      "execution_count": 5,
      "id": "129dfa06",
      "metadata": {
        "colab": {
          "base_uri": "https://localhost:8080/",
          "height": 472
        },
        "id": "129dfa06",
        "outputId": "4465a9fc-f2de-4f47-86d5-9e14dc48779d"
      },
      "outputs": [
        {
          "output_type": "execute_result",
          "data": {
            "text/plain": [
              "<Axes: xlabel='Device', ylabel='Adaptivity Level'>"
            ]
          },
          "metadata": {},
          "execution_count": 5
        },
        {
          "output_type": "display_data",
          "data": {
            "text/plain": [
              "<Figure size 640x480 with 1 Axes>"
            ],
            "image/png": "[encoded data removed]"
          },
          "metadata": {}
        }
      ],
      "source": [
        "# Getting the rows where the device is \"tab\", \"mobile\" and \"computer\" seperately.\n",
        "tab_and_adapt = df[df[\"Device\"] == \"Tab\"]\n",
        "mobile_and_adapt = df[df[\"Device\"] == \"Mobile\"]\n",
        "computer_and_adapt = df[df[\"Device\"] == \"Computer\"]\n",
        "\n",
        "# Joining the seperate DataFrames into one DataFrame with the mean of the Adaptivity Level for each type of device.\n",
        "device_and_adapt_df = pd.DataFrame.from_dict({\"Device\": [\"Tab\", \"Mobile\", \"Computer\"],\n",
        "                                              \"Adaptivity Level\": [tab_and_adapt[\"Adaptivity Level\"].mean(), mobile_and_adapt[\"Adaptivity Level\"].mean(), computer_and_adapt[\"Adaptivity Level\"].mean()]})\n",
        "\n",
        "# Styling the plot and show\n",
        "colors = [\"#8EA7E9\", \"#FD8A8A\", \"#8EA7E9\"]\n",
        "device_and_adapt = sns.barplot(data=device_and_adapt_df, x=\"Device\", y=\"Adaptivity Level\",palette=colors)\n",
        "device_and_adapt.set_ylim(0, 100)\n",
        "device_and_adapt"
      ]
    },
    {
      "cell_type": "code",
      "execution_count": 6,
      "id": "8d539eb7",
      "metadata": {
        "colab": {
          "base_uri": "https://localhost:8080/",
          "height": 472
        },
        "id": "8d539eb7",
        "outputId": "9c5b4aa6-a0ae-48c6-974b-406c9d5a900e"
      },
      "outputs": [
        {
          "output_type": "execute_result",
          "data": {
            "text/plain": [
              "<Axes: xlabel='Age', ylabel='Adaptivity Level'>"
            ]
          },
          "metadata": {},
          "execution_count": 6
        },
        {
          "output_type": "display_data",
          "data": {
            "text/plain": [
              "<Figure size 640x480 with 1 Axes>"
            ],
            "image/png": "[encoded data removed]"
          },
          "metadata": {}
        }
      ],
      "source": [
        "# Getting the rows where the age is \"1-5\", \"6-10\", \"11-15\", \"16-20\", \"21-25\" and \"26-30\" seperately.\n",
        "Age1 = df[df[\"Age\"] == \"1-5\"]\n",
        "Age2 = df[df[\"Age\"] == \"6-10\"]\n",
        "Age3 = df[df[\"Age\"] == \"11-15\"]\n",
        "Age4 = df[df[\"Age\"] == \"16-20\"]\n",
        "Age5 = df[df[\"Age\"] == \"21-25\"]\n",
        "Age6 = df[df[\"Age\"] == \"26-30\"]\n",
        "\n",
        "# Joining the seperate DataFrames into one DataFrame with the mean of the Adaptivity Level for each age.\n",
        "Age_and_adapt_df = pd.DataFrame.from_dict({\"Age\": [\"1-5\", \"6-10\", \"11-15\", \"16-20\", \"21-25\", \"26-30\"],\n",
        "                                              \"Adaptivity Level\": [Age1[\"Adaptivity Level\"].mean(),\n",
        "                                                                   Age2[\"Adaptivity Level\"].mean(),\n",
        "                                                                   Age3[\"Adaptivity Level\"].mean(),\n",
        "                                                                   Age4[\"Adaptivity Level\"].mean(),\n",
        "                                                                   Age5[\"Adaptivity Level\"].mean(),\n",
        "                                                                   Age6[\"Adaptivity Level\"].mean()\n",
        "                                                                  ]\n",
        "                                          })\n",
        "\n",
        "# Styling the plot and show\n",
        "colors = [\"#8EA7E9\", \"#8EA7E9\", \"#8EA7E9\", \"#FD8A8A\", \"#8EA7E9\", \"#8EA7E9\"] \n",
        "\n",
        "Age_and_adapt = sns.barplot(data=Age_and_adapt_df, x=\"Age\", y=\"Adaptivity Level\",palette=colors)\n",
        "Age_and_adapt.set_ylim(0, 100)\n",
        "Age_and_adapt"
      ]
    },
    {
      "cell_type": "code",
      "execution_count": 7,
      "id": "d5afc23d",
      "metadata": {
        "colab": {
          "base_uri": "https://localhost:8080/",
          "height": 472
        },
        "id": "d5afc23d",
        "outputId": "d090336d-6130-47bd-ade7-52e959390d54"
      },
      "outputs": [
        {
          "output_type": "execute_result",
          "data": {
            "text/plain": [
              "<Axes: xlabel='Education Level', ylabel='Adaptivity Level'>"
            ]
          },
          "metadata": {},
          "execution_count": 7
        },
        {
          "output_type": "display_data",
          "data": {
            "text/plain": [
              "<Figure size 640x480 with 1 Axes>"
            ],
            "image/png": "[encoded data removed]"
          },
          "metadata": {}
        }
      ],
      "source": [
        "# Getting the rows where the Education Level is \"School\", \"College\" and \"University\" seperately.\n",
        "School_and_adapt = df[df[\"Education Level\"] == \"School\"]\n",
        "College_and_adapt = df[df[\"Education Level\"] == \"College\"]\n",
        "University_and_adapt = df[df[\"Education Level\"] == \"University\"]\n",
        "\n",
        "# Joining the seperate DataFrames into one DataFrame with the mean of the Adaptivity Level for each Education Level.\n",
        "Education_Level_and_adapt_df = pd.DataFrame.from_dict({\"Education Level\": [\"University\", \"College\", \"School\"],\n",
        "                                                       \"Adaptivity Level\": [School_and_adapt[\"Adaptivity Level\"].mean(),\n",
        "                                                                            College_and_adapt[\"Adaptivity Level\"].mean(),\n",
        "                                                                            University_and_adapt[\"Adaptivity Level\"].mean()\n",
        "                                                                           ]\n",
        "                                                      })\n",
        "\n",
        "# Styling the plot and show\n",
        "colors = [\"#8EA7E9\", \"#FD8A8A\", \"#8EA7E9\"]\n",
        "\n",
        "Education_Level_and_adapt = sns.barplot(data=Education_Level_and_adapt_df, x=\"Education Level\", y=\"Adaptivity Level\",palette=colors)\n",
        "Education_Level_and_adapt.set_ylim(0, 100)\n",
        "Education_Level_and_adapt"
      ]
    },
    {
      "cell_type": "code",
      "execution_count": 8,
      "id": "478ed5c8",
      "metadata": {
        "colab": {
          "base_uri": "https://localhost:8080/",
          "height": 472
        },
        "id": "478ed5c8",
        "outputId": "83a67739-0751-4684-a4a4-ad43d29a5470"
      },
      "outputs": [
        {
          "output_type": "execute_result",
          "data": {
            "text/plain": [
              "<Axes: xlabel='Financial Condition', ylabel='Adaptivity Level'>"
            ]
          },
          "metadata": {},
          "execution_count": 8
        },
        {
          "output_type": "display_data",
          "data": {
            "text/plain": [
              "<Figure size 640x480 with 1 Axes>"
            ],
            "image/png": "[encoded data removed]"
          },
          "metadata": {}
        }
      ],
      "source": [
        "# Getting the rows where the Financial Condition is \"Poor\", \"Mid\" and \"Rich\" seperately.\n",
        "Poor_and_adapt = df[df[\"Financial Condition\"] == \"Poor\"]\n",
        "Mid_and_adapt = df[df[\"Financial Condition\"] == \"Mid\"]\n",
        "Rich_and_adapt = df[df[\"Financial Condition\"] == \"Rich\"]\n",
        "\n",
        "# Joining the seperate DataFrames into one DataFrame with the mean of the Adaptivity Level for each Financial Condition.\n",
        "financial_condition_and_adapt_df = pd.DataFrame.from_dict({\"Financial Condition\": [\"Poor\", \"Mid\", \"Rich\"],\n",
        "                                                           \"Adaptivity Level\": [Poor_and_adapt[\"Adaptivity Level\"].mean(),\n",
        "                                                                                Mid_and_adapt[\"Adaptivity Level\"].mean(),\n",
        "                                                                                Rich_and_adapt[\"Adaptivity Level\"].mean()\n",
        "                                                                               ]\n",
        "                                                          })\n",
        "\n",
        "# Styling the plot and show\n",
        "colors = [\"#FD8A8A\", \"#8EA7E9\", \"#8EA7E9\"]\n",
        "financial_condition_and_adapt = sns.barplot(data=financial_condition_and_adapt_df, x=\"Financial Condition\", y=\"Adaptivity Level\",palette=colors)\n",
        "financial_condition_and_adapt.set_ylim(0, 100)\n",
        "financial_condition_and_adapt"
      ]
    },
    {
      "cell_type": "markdown",
      "id": "0dce47bf",
      "metadata": {
        "id": "0dce47bf"
      },
      "source": [
        "# reformatting the parameters and creating a random forest model"
      ]
    },
    {
      "cell_type": "code",
      "execution_count": 9,
      "id": "3063250c",
      "metadata": {
        "colab": {
          "base_uri": "https://localhost:8080/"
        },
        "id": "3063250c",
        "outputId": "87c909c6-5803-45c5-edcd-08063b0b76cd"
      },
      "outputs": [
        {
          "output_type": "stream",
          "name": "stdout",
          "text": [
            "The accuracy is 73.18%\n"
          ]
        }
      ],
      "source": [
        "# Formatting parameters\n",
        "df_adapt_textual['Gender'] = df_adapt_textual['Gender'].replace({\"Boy\": 0, \"Girl\": 1})\n",
        "df_adapt_textual['Age'] = df_adapt_textual['Age'].replace({\"1-5\": 0, \"6-10\": 1, \"11-15\": 2, \"16-20\": 3, \"21-25\": 4, \"26-30\": 5})\n",
        "df_adapt_textual['Device'] = df_adapt_textual['Device'].replace({\"Tab\": 0, \"Mobile\": 1, \"Computer\": 2})\n",
        "df_adapt_textual['Education Level'] = df_adapt_textual['Education Level'].replace({\"School\": 0, \"College\": 1, \"University\": 2})\n",
        "df_adapt_textual['Financial Condition'] = df_adapt_textual['Financial Condition'].replace({\"Poor\": 0, \"Mid\": 1, \"Rich\": 2})\n",
        "\n",
        "# Definding the paremeters and the Y (Adaptivity Level)\n",
        "X = df_adapt_textual.drop('Adaptivity Level', axis=1)\n",
        "y = df_adapt_textual['Adaptivity Level']\n",
        "\n",
        "# Splitting the data to train data and test data\n",
        "X_train, X_test, y_train, y_test = train_test_split(X, y, random_state=430)\n",
        "# Creating the random forest model\n",
        "clf = RandomForestClassifier()\n",
        "clf.fit(X_train, y_train)\n",
        "# Calculating the accuracy\n",
        "predictions = clf.predict(X_test)\n",
        "accuracy = accuracy_score(y_test, predictions)\n",
        "print(\"The accuracy is {:.2f}%\".format(accuracy * 100))"
      ]
    },
    {
      "cell_type": "code",
      "execution_count": 10,
      "id": "0c83765a",
      "metadata": {
        "colab": {
          "base_uri": "https://localhost:8080/",
          "height": 466
        },
        "id": "0c83765a",
        "outputId": "859f9d47-6191-43e3-d3da-903ab77741a3"
      },
      "outputs": [
        {
          "output_type": "execute_result",
          "data": {
            "text/plain": [
              "<sklearn.metrics._plot.confusion_matrix.ConfusionMatrixDisplay at 0x7f62ac596c70>"
            ]
          },
          "metadata": {},
          "execution_count": 10
        },
        {
          "output_type": "display_data",
          "data": {
            "text/plain": [
              "<Figure size 640x480 with 2 Axes>"
            ],
            "image/png": "[encoded data removed]"
          },
          "metadata": {}
        }
      ],
      "source": [
        "# creating the confusion matrix\n",
        "cm = confusion_matrix(y_test, predictions, labels=clf.classes_)\n",
        "disp = ConfusionMatrixDisplay(confusion_matrix=cm, display_labels=clf.classes_)\n",
        "disp.plot()"
      ]
    },
    {
      "cell_type": "code",
      "execution_count": 11,
      "id": "7c4b1f5d",
      "metadata": {
        "colab": {
          "base_uri": "https://localhost:8080/",
          "height": 36
        },
        "id": "7c4b1f5d",
        "outputId": "4e9b4148-9742-4a59-8a70-e8ea929325d4"
      },
      "outputs": [
        {
          "output_type": "execute_result",
          "data": {
            "text/plain": [
              "'Adaptivity_1.pdf'"
            ],
            "application/vnd.google.colaboratory.intrinsic+json": {
              "type": "string"
            }
          },
          "metadata": {},
          "execution_count": 11
        }
      ],
      "source": [
        "# creating a decision tree and saving it in a PDF\n",
        "dot_data = export_graphviz(clf.estimators_[1], out_file=None, filled=True, rounded=True, special_characters=True)\n",
        "graph = graphviz.Source(dot_data)\n",
        "graph.render(\"Adaptivity_1\")"
      ]
    },
    {
      "cell_type": "markdown",
      "id": "2705ed79",
      "metadata": {
        "id": "2705ed79"
      },
      "source": [
        "# Predicting the best parameters for high and low adaptivity level"
      ]
    },
    {
      "cell_type": "code",
      "execution_count": null,
      "id": "fd2a128c",
      "metadata": {
        "id": "fd2a128c"
      },
      "outputs": [],
      "source": [
        "# creating a map for the categories\n",
        "mapping = {\n",
        "    \"gender\": {\n",
        "        0: \"Boy\",\n",
        "        1: \"Girl\"\n",
        "    },\n",
        "    \"age\": {\n",
        "        0: \"1-5\",\n",
        "        1: \"6-10\",\n",
        "        2: \"11-15\",\n",
        "        3: \"16-20\",\n",
        "        4: \"21-25\",\n",
        "        5: \"26-30\"\n",
        "    },\n",
        "    \"device\": {\n",
        "        0: \"Tab\",\n",
        "        1: \"Mobile\",\n",
        "        2: \"Computer\"\n",
        "    },\n",
        "    \"Education Level\": {\n",
        "        0: \"School\",\n",
        "        1: \"College\",\n",
        "        2: \"University\"\n",
        "    },\n",
        "    \"Financial Condition\": {\n",
        "        0: \"Poor\",\n",
        "        1: \"Mid\",\n",
        "        2: \"Rich\"\n",
        "    }\n",
        "}\n",
        "\n",
        "low_adapt = []\n",
        "high_adapt = []\n",
        "\n",
        "# Loops that find what are the best matches for the paramters that will be a high or a low adaptivity level\n",
        "for gender in range(0, 2):\n",
        "    for age in range(0, 6):\n",
        "        for device in range(0, 3):\n",
        "            for edu in range(0, 3):\n",
        "                for financial in range(0, 3):\n",
        "                    prediction = clf.predict(np.array([gender, age, device, edu, financial]).reshape(1, -1))\n",
        "                    if prediction == 'Low':\n",
        "                        low_adapt.append([mapping['gender'][gender], mapping['age'][age], mapping['device'][device], mapping['Education Level'][edu], mapping['Financial Condition'][financial]])\n",
        "                    elif prediction == 'High':\n",
        "                        high_adapt.append([mapping['gender'][gender], mapping['age'][age], mapping['device'][device], mapping['Education Level'][edu], mapping['Financial Condition'][financial]])"
      ]
    },
    {
      "cell_type": "code",
      "source": [
        "low_adapt"
      ],
      "metadata": {
        "colab": {
          "base_uri": "https://localhost:8080/"
        },
        "id": "MNDeLAPplnqo",
        "outputId": "420a3b93-c66d-4f4a-a74b-b56384b33841"
      },
      "id": "MNDeLAPplnqo",
      "execution_count": 18,
      "outputs": [
        {
          "output_type": "execute_result",
          "data": {
            "text/plain": [
              "[['Boy', '1-5', 'Tab', 'School', 'Poor'],\n",
              " ['Boy', '1-5', 'Tab', 'School', 'Mid'],\n",
              " ['Boy', '1-5', 'Tab', 'School', 'Rich'],\n",
              " ['Boy', '1-5', 'Tab', 'College', 'Poor'],\n",
              " ['Boy', '1-5', 'Tab', 'College', 'Mid'],\n",
              " ['Boy', '1-5', 'Tab', 'College', 'Rich'],\n",
              " ['Boy', '1-5', 'Tab', 'University', 'Poor'],\n",
              " ['Boy', '1-5', 'Tab', 'University', 'Mid'],\n",
              " ['Boy', '1-5', 'Tab', 'University', 'Rich'],\n",
              " ['Boy', '1-5', 'Mobile', 'School', 'Poor'],\n",
              " ['Boy', '1-5', 'Mobile', 'School', 'Mid'],\n",
              " ['Boy', '1-5', 'Mobile', 'School', 'Rich'],\n",
              " ['Boy', '1-5', 'Mobile', 'College', 'Mid'],\n",
              " ['Boy', '1-5', 'Mobile', 'College', 'Rich'],\n",
              " ['Boy', '1-5', 'Mobile', 'University', 'Poor'],\n",
              " ['Boy', '1-5', 'Mobile', 'University', 'Mid'],\n",
              " ['Boy', '1-5', 'Mobile', 'University', 'Rich'],\n",
              " ['Boy', '1-5', 'Computer', 'School', 'Poor'],\n",
              " ['Boy', '1-5', 'Computer', 'School', 'Mid'],\n",
              " ['Boy', '1-5', 'Computer', 'School', 'Rich'],\n",
              " ['Boy', '1-5', 'Computer', 'College', 'Mid'],\n",
              " ['Boy', '1-5', 'Computer', 'College', 'Rich'],\n",
              " ['Boy', '1-5', 'Computer', 'University', 'Mid'],\n",
              " ['Boy', '6-10', 'Tab', 'School', 'Poor'],\n",
              " ['Boy', '6-10', 'Tab', 'School', 'Mid'],\n",
              " ['Boy', '6-10', 'Tab', 'School', 'Rich'],\n",
              " ['Boy', '6-10', 'Tab', 'College', 'Poor'],\n",
              " ['Boy', '6-10', 'Tab', 'College', 'Mid'],\n",
              " ['Boy', '6-10', 'Tab', 'College', 'Rich'],\n",
              " ['Boy', '6-10', 'Mobile', 'School', 'Poor'],\n",
              " ['Boy', '6-10', 'Mobile', 'School', 'Mid'],\n",
              " ['Boy', '6-10', 'Mobile', 'School', 'Rich'],\n",
              " ['Boy', '6-10', 'Mobile', 'College', 'Mid'],\n",
              " ['Boy', '6-10', 'Mobile', 'College', 'Rich'],\n",
              " ['Boy', '6-10', 'Mobile', 'University', 'Mid'],\n",
              " ['Boy', '6-10', 'Computer', 'School', 'Mid'],\n",
              " ['Boy', '6-10', 'Computer', 'College', 'Mid'],\n",
              " ['Boy', '6-10', 'Computer', 'College', 'Rich'],\n",
              " ['Boy', '6-10', 'Computer', 'University', 'Mid'],\n",
              " ['Boy', '11-15', 'Tab', 'School', 'Mid'],\n",
              " ['Boy', '11-15', 'Tab', 'School', 'Rich'],\n",
              " ['Boy', '11-15', 'Tab', 'College', 'Rich'],\n",
              " ['Boy', '11-15', 'Mobile', 'School', 'Mid'],\n",
              " ['Boy', '11-15', 'Mobile', 'School', 'Rich'],\n",
              " ['Boy', '11-15', 'Mobile', 'College', 'Rich'],\n",
              " ['Boy', '11-15', 'Mobile', 'University', 'Mid'],\n",
              " ['Boy', '11-15', 'Computer', 'University', 'Mid'],\n",
              " ['Boy', '16-20', 'Tab', 'School', 'Poor'],\n",
              " ['Boy', '16-20', 'Tab', 'School', 'Mid'],\n",
              " ['Boy', '16-20', 'Tab', 'School', 'Rich'],\n",
              " ['Boy', '16-20', 'Tab', 'College', 'Rich'],\n",
              " ['Boy', '16-20', 'Mobile', 'School', 'Mid'],\n",
              " ['Boy', '16-20', 'Mobile', 'School', 'Rich'],\n",
              " ['Boy', '16-20', 'Mobile', 'University', 'Mid'],\n",
              " ['Boy', '16-20', 'Computer', 'University', 'Mid'],\n",
              " ['Boy', '21-25', 'Tab', 'School', 'Poor'],\n",
              " ['Boy', '21-25', 'Tab', 'School', 'Mid'],\n",
              " ['Boy', '21-25', 'Tab', 'School', 'Rich'],\n",
              " ['Boy', '21-25', 'Tab', 'College', 'Rich'],\n",
              " ['Boy', '21-25', 'Mobile', 'School', 'Mid'],\n",
              " ['Boy', '21-25', 'Mobile', 'University', 'Mid'],\n",
              " ['Boy', '21-25', 'Computer', 'University', 'Mid'],\n",
              " ['Boy', '26-30', 'Tab', 'School', 'Poor'],\n",
              " ['Boy', '26-30', 'Tab', 'School', 'Mid'],\n",
              " ['Boy', '26-30', 'Tab', 'College', 'Rich'],\n",
              " ['Boy', '26-30', 'Mobile', 'School', 'Mid'],\n",
              " ['Boy', '26-30', 'Mobile', 'College', 'Rich'],\n",
              " ['Boy', '26-30', 'Computer', 'School', 'Mid'],\n",
              " ['Boy', '26-30', 'Computer', 'College', 'Rich'],\n",
              " ['Girl', '1-5', 'Tab', 'University', 'Poor'],\n",
              " ['Girl', '1-5', 'Tab', 'University', 'Mid'],\n",
              " ['Girl', '1-5', 'Tab', 'University', 'Rich'],\n",
              " ['Girl', '1-5', 'Mobile', 'University', 'Poor'],\n",
              " ['Girl', '1-5', 'Mobile', 'University', 'Mid'],\n",
              " ['Girl', '1-5', 'Computer', 'University', 'Mid'],\n",
              " ['Girl', '6-10', 'Tab', 'School', 'Poor'],\n",
              " ['Girl', '6-10', 'Tab', 'School', 'Mid'],\n",
              " ['Girl', '6-10', 'Tab', 'School', 'Rich'],\n",
              " ['Girl', '6-10', 'Mobile', 'School', 'Poor'],\n",
              " ['Girl', '6-10', 'Mobile', 'School', 'Mid'],\n",
              " ['Girl', '6-10', 'Mobile', 'School', 'Rich'],\n",
              " ['Girl', '6-10', 'Mobile', 'College', 'Mid'],\n",
              " ['Girl', '6-10', 'Computer', 'School', 'Poor'],\n",
              " ['Girl', '6-10', 'Computer', 'College', 'Mid'],\n",
              " ['Girl', '11-15', 'Tab', 'School', 'Mid'],\n",
              " ['Girl', '11-15', 'Mobile', 'School', 'Poor'],\n",
              " ['Girl', '11-15', 'Mobile', 'School', 'Mid'],\n",
              " ['Girl', '11-15', 'Mobile', 'School', 'Rich'],\n",
              " ['Girl', '11-15', 'Computer', 'College', 'Mid'],\n",
              " ['Girl', '16-20', 'Tab', 'School', 'Poor'],\n",
              " ['Girl', '16-20', 'Tab', 'School', 'Mid'],\n",
              " ['Girl', '16-20', 'Tab', 'School', 'Rich'],\n",
              " ['Girl', '16-20', 'Tab', 'College', 'Poor'],\n",
              " ['Girl', '16-20', 'Tab', 'College', 'Mid'],\n",
              " ['Girl', '16-20', 'Tab', 'College', 'Rich'],\n",
              " ['Girl', '16-20', 'Mobile', 'School', 'Poor'],\n",
              " ['Girl', '16-20', 'Mobile', 'School', 'Mid'],\n",
              " ['Girl', '16-20', 'Mobile', 'School', 'Rich'],\n",
              " ['Girl', '16-20', 'Mobile', 'College', 'Mid'],\n",
              " ['Girl', '16-20', 'Computer', 'College', 'Mid'],\n",
              " ['Girl', '16-20', 'Computer', 'University', 'Mid'],\n",
              " ['Girl', '21-25', 'Tab', 'School', 'Poor'],\n",
              " ['Girl', '21-25', 'Tab', 'School', 'Mid'],\n",
              " ['Girl', '21-25', 'Tab', 'School', 'Rich'],\n",
              " ['Girl', '21-25', 'Tab', 'College', 'Mid'],\n",
              " ['Girl', '21-25', 'Tab', 'College', 'Rich'],\n",
              " ['Girl', '21-25', 'Mobile', 'School', 'Poor'],\n",
              " ['Girl', '21-25', 'Mobile', 'School', 'Mid'],\n",
              " ['Girl', '21-25', 'Mobile', 'School', 'Rich'],\n",
              " ['Girl', '21-25', 'Mobile', 'College', 'Mid'],\n",
              " ['Girl', '21-25', 'Mobile', 'University', 'Mid'],\n",
              " ['Girl', '21-25', 'Computer', 'School', 'Poor'],\n",
              " ['Girl', '21-25', 'Computer', 'School', 'Mid'],\n",
              " ['Girl', '21-25', 'Computer', 'School', 'Rich'],\n",
              " ['Girl', '26-30', 'Tab', 'School', 'Poor'],\n",
              " ['Girl', '26-30', 'Tab', 'School', 'Mid'],\n",
              " ['Girl', '26-30', 'Tab', 'School', 'Rich'],\n",
              " ['Girl', '26-30', 'Tab', 'College', 'Poor'],\n",
              " ['Girl', '26-30', 'Tab', 'College', 'Mid'],\n",
              " ['Girl', '26-30', 'Tab', 'College', 'Rich'],\n",
              " ['Girl', '26-30', 'Mobile', 'School', 'Poor'],\n",
              " ['Girl', '26-30', 'Mobile', 'School', 'Mid'],\n",
              " ['Girl', '26-30', 'Mobile', 'School', 'Rich'],\n",
              " ['Girl', '26-30', 'Mobile', 'College', 'Mid'],\n",
              " ['Girl', '26-30', 'Mobile', 'College', 'Rich'],\n",
              " ['Girl', '26-30', 'Computer', 'School', 'Poor'],\n",
              " ['Girl', '26-30', 'Computer', 'School', 'Mid'],\n",
              " ['Girl', '26-30', 'Computer', 'School', 'Rich'],\n",
              " ['Girl', '26-30', 'Computer', 'College', 'Mid'],\n",
              " ['Girl', '26-30', 'Computer', 'College', 'Rich']]"
            ]
          },
          "metadata": {},
          "execution_count": 18
        }
      ]
    },
    {
      "cell_type": "code",
      "execution_count": 13,
      "id": "4247a39b",
      "metadata": {
        "id": "4247a39b"
      },
      "outputs": [],
      "source": [
        "# function that returns a key where a value appears\n",
        "def get_key(dictionary, val):\n",
        "    for key, value in dictionary.items():\n",
        "        if value == val:\n",
        "            return key\n",
        "    return"
      ]
    },
    {
      "cell_type": "code",
      "execution_count": 14,
      "id": "abd12577",
      "metadata": {
        "colab": {
          "base_uri": "https://localhost:8080/"
        },
        "id": "abd12577",
        "outputId": "537ecf0e-ddff-4088-cfe6-2a6d7b269079"
      },
      "outputs": [
        {
          "output_type": "stream",
          "name": "stdout",
          "text": [
            "The best match for high adaptivity is:\n",
            "      Gender: Boy\n",
            "      Age: 26-30\n",
            "      Device: Computer\n",
            "      Education Level: University\n",
            "      Financial Condition: Rich\n"
          ]
        }
      ],
      "source": [
        "# preparing dictionary for counting the parameters\n",
        "counting_high = {\n",
        "    \"gender\": {\n",
        "        \"Boy\": 0,\n",
        "        \"Girl\": 0\n",
        "    },\n",
        "    \"age\": {\n",
        "        \"1-5\": 0,\n",
        "        \"6-10\": 0,\n",
        "        \"11-15\": 0,\n",
        "        \"16-20\": 0,\n",
        "        \"21-25\": 0,\n",
        "        \"26-30\": 0\n",
        "    },\n",
        "    \"device\": {\n",
        "        \"Tab\": 0,\n",
        "        \"Mobile\": 0,\n",
        "        \"Computer\": 0\n",
        "    },\n",
        "    \"Education Level\": {\n",
        "        \"School\": 0,\n",
        "        \"College\": 0,\n",
        "        \"University\": 0\n",
        "    },\n",
        "    \"Financial Condition\": {\n",
        "        \"Poor\": 0,\n",
        "        \"Mid\": 0,\n",
        "        \"Rich\": 0\n",
        "    }\n",
        "}\n",
        "\n",
        "# counting parameters\n",
        "for case in high_adapt:\n",
        "    counting_high[\"gender\"][case[0]] += 1\n",
        "    counting_high[\"age\"][case[1]] += 1\n",
        "    counting_high[\"device\"][case[2]] += 1\n",
        "    counting_high[\"Education Level\"][case[3]] += 1\n",
        "    counting_high[\"Financial Condition\"][case[4]] += 1\n",
        "\n",
        "# preparing dictionary for finding the categories that appears the maximum times\n",
        "results_high = {\n",
        "    \"gender\": {\n",
        "        \"max\": 0,\n",
        "        \"cat\": \"\"\n",
        "    },\n",
        "    \"age\": {\n",
        "        \"max\": 0,\n",
        "        \"cat\": \"\"\n",
        "    },\n",
        "    \"device\": {\n",
        "        \"max\": 0,\n",
        "        \"cat\": \"\"\n",
        "    },\n",
        "    \"Education Level\": {\n",
        "        \"max\": 0,\n",
        "        \"cat\": \"\"\n",
        "    },\n",
        "    \"Financial Condition\": {\n",
        "        \"max\": 0,\n",
        "        \"cat\": \"\"\n",
        "    }\n",
        "} \n",
        "\n",
        "# calculating what is the maximum category\n",
        "for cat, values in counting_high.items():\n",
        "    results_high[cat][\"max\"] = max(counting_high[cat].values())\n",
        "    results_high[cat][\"cat\"] = get_key(counting_high[cat], results_high[cat][\"max\"])\n",
        "\n",
        "# printing the results      \n",
        "print(f\"\"\"The best match for high adaptivity is:\n",
        "      Gender: {results_high['gender']['cat']}\n",
        "      Age: {results_high['age']['cat']}\n",
        "      Device: {results_high['device']['cat']}\n",
        "      Education Level: {results_high['Education Level']['cat']}\n",
        "      Financial Condition: {results_high['Financial Condition']['cat']}\"\"\")"
      ]
    },
    {
      "cell_type": "code",
      "execution_count": 15,
      "id": "8063b81e",
      "metadata": {
        "colab": {
          "base_uri": "https://localhost:8080/"
        },
        "id": "8063b81e",
        "outputId": "e780547d-9b0e-43de-829c-0d4810fa29eb"
      },
      "outputs": [
        {
          "output_type": "stream",
          "name": "stdout",
          "text": [
            "The best match for low adaptivity is:\n",
            "      Gender: Boy\n",
            "      Age: 1-5\n",
            "      Device: Tab\n",
            "      Education Level: School\n",
            "      Financial Condition: Mid\n"
          ]
        }
      ],
      "source": [
        "# preparing dictionary for counting the parameters\n",
        "counting_low = {\n",
        "    \"gender\": {\n",
        "        \"Boy\": 0,\n",
        "        \"Girl\": 0\n",
        "    },\n",
        "    \"age\": {\n",
        "        \"1-5\": 0,\n",
        "        \"6-10\": 0,\n",
        "        \"11-15\": 0,\n",
        "        \"16-20\": 0,\n",
        "        \"21-25\": 0,\n",
        "        \"26-30\": 0\n",
        "    },\n",
        "    \"device\": {\n",
        "        \"Tab\": 0,\n",
        "        \"Mobile\": 0,\n",
        "        \"Computer\": 0\n",
        "    },\n",
        "    \"Education Level\": {\n",
        "        \"School\": 0,\n",
        "        \"College\": 0,\n",
        "        \"University\": 0\n",
        "    },\n",
        "    \"Financial Condition\": {\n",
        "        \"Poor\": 0,\n",
        "        \"Mid\": 0,\n",
        "        \"Rich\": 0\n",
        "    }\n",
        "}\n",
        "\n",
        "# counting parameters\n",
        "for case in low_adapt:\n",
        "    counting_low[\"gender\"][case[0]] += 1\n",
        "    counting_low[\"age\"][case[1]] += 1\n",
        "    counting_low[\"device\"][case[2]] += 1\n",
        "    counting_low[\"Education Level\"][case[3]] += 1\n",
        "    counting_low[\"Financial Condition\"][case[4]] += 1\n",
        "\n",
        "# preparing dictionary for finding the categories that appears the maximum times\n",
        "results_low = {\n",
        "    \"gender\": {\n",
        "        \"max\": 0,\n",
        "        \"cat\": \"\"\n",
        "    },\n",
        "    \"age\": {\n",
        "        \"max\": 0,\n",
        "        \"cat\": \"\"\n",
        "    },\n",
        "    \"device\": {\n",
        "        \"max\": 0,\n",
        "        \"cat\": \"\"\n",
        "    },\n",
        "    \"Education Level\": {\n",
        "        \"max\": 0,\n",
        "        \"cat\": \"\"\n",
        "    },\n",
        "    \"Financial Condition\": {\n",
        "        \"max\": 0,\n",
        "        \"cat\": \"\"\n",
        "    }\n",
        "} \n",
        "\n",
        "# calculating what is the maximum category\n",
        "for cat, values in counting_low.items():\n",
        "    results_low[cat][\"max\"] = max(counting_low[cat].values())\n",
        "    results_low[cat][\"cat\"] = get_key(counting_low[cat], results_low[cat][\"max\"])\n",
        "\n",
        "# printing the results  \n",
        "print(f\"\"\"The best match for low adaptivity is:\n",
        "      Gender: {results_low['gender']['cat']}\n",
        "      Age: {results_low['age']['cat']}\n",
        "      Device: {results_low['device']['cat']}\n",
        "      Education Level: {results_low['Education Level']['cat']}\n",
        "      Financial Condition: {results_low['Financial Condition']['cat']}\"\"\")"
      ]
    },
    {
      "cell_type": "markdown",
      "id": "09135e8b",
      "metadata": {
        "id": "09135e8b"
      },
      "source": [
        "# Calculating the importance scores of the parameters"
      ]
    },
    {
      "cell_type": "code",
      "execution_count": 16,
      "id": "d674ad2e",
      "metadata": {
        "colab": {
          "base_uri": "https://localhost:8080/",
          "height": 428
        },
        "id": "d674ad2e",
        "outputId": "1fa02ab8-042e-42a5-a626-7f45c5bd675c"
      },
      "outputs": [
        {
          "output_type": "display_data",
          "data": {
            "text/plain": [
              "<Figure size 640x480 with 1 Axes>"
            ],
            "image/png": "[encoded data removed]"
          },
          "metadata": {}
        }
      ],
      "source": [
        "# calculating the importance score\n",
        "importance_score = clf.feature_importances_\n",
        "# sorting the scores\n",
        "importance_score_sorted = sorted(importance_score, reverse=True)\n",
        "\n",
        "# styling the plot\n",
        "colors = sns.color_palette('pastel')[0:5]\n",
        "\n",
        "# creating and showing the plot\n",
        "plt.pie(importance_score_sorted, labels=X.columns, colors=colors, autopct=\"%.2f%%\")\n",
        "plt.title(\"features importance\")\n",
        "plt.show()"
      ]
    }
  ],
  "metadata": {
    "kernelspec": {
      "display_name": "Python 3 (ipykernel)",
      "language": "python",
      "name": "python3"
    },
    "language_info": {
      "codemirror_mode": {
        "name": "ipython",
        "version": 3
      },
      "file_extension": ".py",
      "mimetype": "text/x-python",
      "name": "python",
      "nbconvert_exporter": "python",
      "pygments_lexer": "ipython3",
      "version": "3.9.13"
    },
    "colab": {
      "provenance": []
    }
  },
  "nbformat": 4,
  "nbformat_minor": 5
}